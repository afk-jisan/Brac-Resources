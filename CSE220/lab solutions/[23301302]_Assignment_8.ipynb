{
  "nbformat": 4,
  "nbformat_minor": 0,
  "metadata": {
    "colab": {
      "provenance": []
    },
    "kernelspec": {
      "name": "python3",
      "display_name": "Python 3"
    },
    "language_info": {
      "name": "python"
    }
  },
  "cells": [
    {
      "cell_type": "code",
      "execution_count": null,
      "metadata": {
        "colab": {
          "base_uri": "https://localhost:8080/"
        },
        "id": "_mxiIPoT5Nbi",
        "outputId": "ae7c59f5-7b28-42f1-cd2d-c4a57c4af6d3"
      },
      "outputs": [
        {
          "output_type": "stream",
          "name": "stdout",
          "text": [
            "[[0 5 6 7 8 9 3]\n",
            " [0 0 0 0 0 3 0]\n",
            " [0 0 0 0 0 0 2]\n",
            " [0 0 8 0 0 0 3]\n",
            " [0 5 0 0 0 0 0]\n",
            " [0 0 3 2 5 0 0]\n",
            " [0 2 0 0 2 0 0]]\n"
          ]
        }
      ],
      "source": [
        "#adjacency matrix representation (weighted)\n",
        "import numpy as np\n",
        "def weightedGraph():\n",
        "    graph = np.zeros((7,7), dtype=int)\n",
        "    #for 0\n",
        "    graph[0][1] = 5\n",
        "    graph[0][2] = 6\n",
        "    graph[0][3] = 7\n",
        "    graph[0][4] = 8\n",
        "    graph[0][5] = 9\n",
        "    graph[0][6] = 3\n",
        "\n",
        "\n",
        "    #for 1\n",
        "    graph[1][5] = 3\n",
        "\n",
        "\n",
        "    #for 2\n",
        "    graph[2][6] = 2\n",
        "\n",
        "    #for 3\n",
        "    graph[3][2] = 8\n",
        "    graph[3][6] = 3\n",
        "\n",
        "    #for 4\n",
        "    graph[4][1] = 5\n",
        "    #for 5\n",
        "    graph[5][3] = 2\n",
        "    graph[5][2] = 3\n",
        "    graph[5][4] = 5\n",
        "\n",
        "    #for 6\n",
        "    graph[6][4] = 2\n",
        "    graph[6][1] = 2\n",
        "\n",
        "    return graph\n",
        "\n",
        "Graph = weightedGraph()\n",
        "print(Graph)"
      ]
    },
    {
      "cell_type": "markdown",
      "source": [
        "![graph.png](data:image/png;base64,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)"
      ],
      "metadata": {
        "id": "craQmXtvJkFa"
      }
    },
    {
      "cell_type": "code",
      "source": [
        "#adjacency list representation\n",
        "import numpy as np\n",
        "class Edge:\n",
        "  def __init__(self, source, destination, weight):\n",
        "    self.source = source\n",
        "    self.destination = destination\n",
        "    self.weight = weight\n",
        "    self.next = None\n",
        "\n",
        "\n",
        "def weightedGraphWithLL():\n",
        "    arr = [None] * 7\n",
        "    #for 0\n",
        "    arr[0] = Edge(0, 1, 5)\n",
        "    arr[0].next = Edge(0, 2, 6)\n",
        "    arr[0].next.next = Edge(0, 3, 7)\n",
        "    arr[0].next.next.next = Edge(0, 4, 8)\n",
        "    arr[0].next.next.next.next = Edge(0, 5, 9)\n",
        "    arr[0].next.next.next.next.next = Edge(0, 6, 3)\n",
        "\n",
        "    #for 1\n",
        "    arr[1] = Edge(1, 5, 3)\n",
        "\n",
        "    #for 2\n",
        "    arr[2] = Edge(2, 6, 2)\n",
        "\n",
        "    #for 3\n",
        "    arr[3] = Edge(3, 2, 8)\n",
        "    arr[3].next = Edge(3, 6, 3)\n",
        "\n",
        "    #for 4\n",
        "    arr[4] = Edge(4, 1, 5)\n",
        "\n",
        "    #for 5\n",
        "    arr[5] = Edge(5, 3, 2)\n",
        "    arr[5].next = Edge(5, 2, 3)\n",
        "    arr[5].next.next = Edge(5, 4, 5)\n",
        "\n",
        "    #for 6\n",
        "    arr[6] = Edge(6, 4, 2)\n",
        "    arr[6].next = Edge(6, 1, 2)\n",
        "\n",
        "    return arr\n",
        "\n",
        "def printGraphForLL(graph_list):\n",
        "    for i in range(len(graph_list)):\n",
        "        temp = graph_list[i]\n",
        "        string = \"\"\n",
        "        while temp != None:\n",
        "            if temp.next == None:\n",
        "                string += f\"{str(temp.source)} ---[{str(temp.weight)}]---> {str(temp.destination)}\"\n",
        "            else:\n",
        "                string += f\"{str(temp.source)} ---[{str(temp.weight)}]---> {str(temp.destination)} | \"\n",
        "            temp = temp.next\n",
        "        print(f\"For vertex {i} : {string}\")\n",
        "\n",
        "\n",
        "weighted_graph_ll = weightedGraphWithLL()\n",
        "printGraphForLL(weighted_graph_ll)\n"
      ],
      "metadata": {
        "colab": {
          "base_uri": "https://localhost:8080/"
        },
        "id": "6imOFFwWi6LJ",
        "outputId": "3cafec4f-182c-4968-c954-15f93866c8d3"
      },
      "execution_count": null,
      "outputs": [
        {
          "output_type": "stream",
          "name": "stdout",
          "text": [
            "For vertex 0 : 0 ---[5]---> 1 | 0 ---[6]---> 2 | 0 ---[7]---> 3 | 0 ---[8]---> 4 | 0 ---[9]---> 5 | 0 ---[3]---> 6\n",
            "For vertex 1 : 1 ---[3]---> 5\n",
            "For vertex 2 : 2 ---[2]---> 6\n",
            "For vertex 3 : 3 ---[8]---> 2 | 3 ---[3]---> 6\n",
            "For vertex 4 : 4 ---[5]---> 1\n",
            "For vertex 5 : 5 ---[2]---> 3 | 5 ---[3]---> 2 | 5 ---[5]---> 4\n",
            "For vertex 6 : 6 ---[2]---> 4 | 6 ---[2]---> 1\n"
          ]
        }
      ]
    },
    {
      "cell_type": "code",
      "source": [
        "#Task - 3\n",
        "#solving task 1 using matrix (finding vertex of max degree for directed, edge-weighted graphs)\n",
        "\n",
        "def findMaxDegree(arr):\n",
        "    row, col = arr.shape\n",
        "    r = 0\n",
        "    maxDegree = 0\n",
        "    while r < row:\n",
        "        c = 0\n",
        "        degreeCounter = 0\n",
        "        while c < col:\n",
        "            if arr[r][c] != 0:\n",
        "                degreeCounter += 1\n",
        "            c += 1\n",
        "\n",
        "        if  degreeCounter > maxDegree:\n",
        "            maxDegree = degreeCounter\n",
        "        r += 1\n",
        "    return maxDegree\n",
        "\n",
        "Graph = weightedGraph()\n",
        "\n",
        "degree = findMaxDegree(Graph)\n",
        "print(degree)"
      ],
      "metadata": {
        "colab": {
          "base_uri": "https://localhost:8080/"
        },
        "id": "WTMHp8cBDTMw",
        "outputId": "e4cacfb3-9ca1-4344-9fcf-9fb7b7dd2b96"
      },
      "execution_count": null,
      "outputs": [
        {
          "output_type": "stream",
          "name": "stdout",
          "text": [
            "6\n"
          ]
        }
      ]
    },
    {
      "cell_type": "code",
      "source": [
        "#Task - 3\n",
        "#solving task 1 using adjacency list (finding vertex of max degree for directed, edge-weighted graphs)\n",
        "def findVertexLL(linkedList):\n",
        "    maxDegree = 0\n",
        "    maxVertex = None\n",
        "    for i in range(len(linkedList)):\n",
        "        sumWeight = 0\n",
        "        temp = linkedList[i]\n",
        "        track = linkedList[i]\n",
        "        while temp != None:\n",
        "            sumWeight += 1\n",
        "            temp = temp.next\n",
        "\n",
        "        if sumWeight > maxDegree:\n",
        "            maxDegree = sumWeight\n",
        "            maxVertex = track.source\n",
        "    return (maxVertex, maxDegree)\n",
        "\n",
        "res = findVertexLL(weighted_graph_ll)\n",
        "print(f\"vertex {res[0]}, sum : {res[1]}\")"
      ],
      "metadata": {
        "colab": {
          "base_uri": "https://localhost:8080/"
        },
        "id": "VE97u9RLnuki",
        "outputId": "cb77f21e-45b7-4095-9f1a-2a577779f41f"
      },
      "execution_count": null,
      "outputs": [
        {
          "output_type": "stream",
          "name": "stdout",
          "text": [
            "vertex 0, sum : 6\n"
          ]
        }
      ]
    },
    {
      "cell_type": "code",
      "source": [
        "#Task - 3\n",
        "#solving task 1 using matrix (finding vertex whose sum of edge weights is maximum, for directed, edge-weighted graphs)\n",
        "\n",
        "def findMaxDegree(arr):\n",
        "    row, col = arr.shape\n",
        "    r = 0\n",
        "    maxDegree = 0\n",
        "    while r < row:\n",
        "        c = 0\n",
        "        degreeCounter = 0\n",
        "        while c < col:\n",
        "            if arr[r][c] != 0:\n",
        "                degreeCounter += arr[r][c]\n",
        "            c += 1\n",
        "\n",
        "        if  degreeCounter > maxDegree:\n",
        "            maxDegree = degreeCounter\n",
        "        r += 1\n",
        "    return maxDegree\n",
        "\n",
        "Graph = weightedGraph()\n",
        "\n",
        "degree = findMaxDegree(Graph)\n",
        "print(degree)"
      ],
      "metadata": {
        "colab": {
          "base_uri": "https://localhost:8080/"
        },
        "id": "r-CVOQwLoCVL",
        "outputId": "906ebc86-c90d-45b7-e14b-b5139022337d"
      },
      "execution_count": null,
      "outputs": [
        {
          "output_type": "stream",
          "name": "stdout",
          "text": [
            "38\n"
          ]
        }
      ]
    },
    {
      "cell_type": "code",
      "source": [
        "#Task - 3\n",
        "#solving task 2 using adjacency list (finding vertex whose sum of edge weights is maximum, for directed, edge-weighted graphs)\n",
        "def findVertexLL(linkedList):\n",
        "    maxDegree = 0\n",
        "    maxVertex = None\n",
        "    for i in range(len(linkedList)):\n",
        "        sumWeight = 0\n",
        "        temp = linkedList[i]\n",
        "        track = linkedList[i]\n",
        "        while temp != None:\n",
        "            sumWeight += temp.weight\n",
        "            temp = temp.next\n",
        "\n",
        "        #if track: print(f\"{track.source}, sum : {sumWeight}\")\n",
        "        if sumWeight > maxDegree:\n",
        "            maxDegree = sumWeight\n",
        "            maxVertex = track.source       #or dont keep track, just put i ?? that should work, right?\n",
        "    return (maxVertex, maxDegree)\n",
        "\n",
        "res = findVertexLL(weighted_graph_ll)\n",
        "print(f\"vertex {res[0]}, sum : {res[1]}\")"
      ],
      "metadata": {
        "colab": {
          "base_uri": "https://localhost:8080/"
        },
        "id": "1A1KhOQrm0j3",
        "outputId": "2ee43796-82c8-4006-f811-c7bc2d4b85c4"
      },
      "execution_count": null,
      "outputs": [
        {
          "output_type": "stream",
          "name": "stdout",
          "text": [
            "vertex 0, sum : 38\n"
          ]
        }
      ]
    },
    {
      "cell_type": "code",
      "source": [
        "#task - 4 (conversion from directed to undirected weighted graph by using matrix)\n",
        "import numpy as np\n",
        "def convert(graph):\n",
        "    row, col = graph.shape\n",
        "    r = 0\n",
        "    while r < row:\n",
        "        c = 0\n",
        "        while c < col:\n",
        "            if graph[r][c] != 0:\n",
        "                graph[c][r] = graph[r][c]\n",
        "            c += 1\n",
        "        r += 1\n",
        "    return graph\n",
        "\n",
        "Graph = weightedGraph()\n",
        "converted = convert(Graph)\n",
        "print(converted)"
      ],
      "metadata": {
        "colab": {
          "base_uri": "https://localhost:8080/"
        },
        "id": "pI_f9VpwdwUW",
        "outputId": "eb010bc7-6445-413a-dfbe-d3916ccb4eec"
      },
      "execution_count": null,
      "outputs": [
        {
          "output_type": "stream",
          "name": "stdout",
          "text": [
            "[[0 5 6 7 8 9 3]\n",
            " [5 0 0 0 5 3 2]\n",
            " [6 0 0 8 0 3 2]\n",
            " [7 0 8 0 0 2 3]\n",
            " [8 5 0 0 0 5 2]\n",
            " [9 3 3 2 5 0 0]\n",
            " [3 2 2 3 2 0 0]]\n"
          ]
        }
      ]
    },
    {
      "cell_type": "code",
      "source": [
        "#task - 4 (conversion from directed to undirected weighted graph by using adjacency list)\n",
        "def convertList(graph):\n",
        "    for i in range(len(graph)):\n",
        "        temp = graph[i]\n",
        "        while temp != None:\n",
        "            source = temp.source\n",
        "            dest = temp.destination\n",
        "            w = temp.weight\n",
        "\n",
        "            node = Edge(dest, source, w)\n",
        "            newtemp = graph[dest]\n",
        "            while newtemp.next != None:\n",
        "                newtemp = newtemp.next\n",
        "            newtemp.next = node\n",
        "\n",
        "            temp = temp.next\n",
        "        return graph\n",
        "\n",
        "directed_graph_ll = weightedGraphWithLL()\n",
        "unDirected_graph_ll = convertList(directed_graph_ll)\n",
        "printGraphForLL(directed_graph_ll)"
      ],
      "metadata": {
        "id": "s_JX4aUgos_F",
        "colab": {
          "base_uri": "https://localhost:8080/"
        },
        "outputId": "fbd56fa2-58cd-43fc-82d9-e9d8cf753c1f"
      },
      "execution_count": null,
      "outputs": [
        {
          "output_type": "stream",
          "name": "stdout",
          "text": [
            "For vertex 0 : 0 ---[5]---> 1 | 0 ---[6]---> 2 | 0 ---[7]---> 3 | 0 ---[8]---> 4 | 0 ---[9]---> 5 | 0 ---[3]---> 6\n",
            "For vertex 1 : 1 ---[3]---> 5 | 1 ---[5]---> 0\n",
            "For vertex 2 : 2 ---[2]---> 6 | 2 ---[6]---> 0\n",
            "For vertex 3 : 3 ---[8]---> 2 | 3 ---[3]---> 6 | 3 ---[7]---> 0\n",
            "For vertex 4 : 4 ---[5]---> 1 | 4 ---[8]---> 0\n",
            "For vertex 5 : 5 ---[2]---> 3 | 5 ---[3]---> 2 | 5 ---[5]---> 4 | 5 ---[9]---> 0\n",
            "For vertex 6 : 6 ---[2]---> 4 | 6 ---[2]---> 1 | 6 ---[3]---> 0\n"
          ]
        }
      ]
    },
    {
      "cell_type": "code",
      "source": [
        "#task - 4 (conversion from directed to undirected weighted graph by using adjacency list)\n",
        "def convertList(graph):\n",
        "    for i in range(len(graph)):\n",
        "        temp = graph[i]\n",
        "        while temp != None:\n",
        "            source = temp.source\n",
        "            dest = temp.destination\n",
        "            w = temp.weight\n",
        "\n",
        "            node = Edge(dest, source, w)\n",
        "\n",
        "            #forward chain\n",
        "            node.next = graph[dest]\n",
        "            graph[dest] = node\n",
        "\n",
        "            temp = temp.next\n",
        "        return graph\n",
        "\n",
        "directed_graph_ll = weightedGraphWithLL()\n",
        "unDirected_graph_ll = convertList(directed_graph_ll)\n",
        "printGraphForLL(directed_graph_ll)"
      ],
      "metadata": {
        "colab": {
          "base_uri": "https://localhost:8080/"
        },
        "id": "QEim4OZVlm2S",
        "outputId": "ea67e55d-57dd-442d-82d4-e9b357a853ad"
      },
      "execution_count": null,
      "outputs": [
        {
          "output_type": "stream",
          "name": "stdout",
          "text": [
            "For vertex 0 : 0 ---[5]---> 1 | 0 ---[6]---> 2 | 0 ---[7]---> 3 | 0 ---[8]---> 4 | 0 ---[9]---> 5 | 0 ---[3]---> 6\n",
            "For vertex 1 : 1 ---[5]---> 0 | 1 ---[3]---> 5\n",
            "For vertex 2 : 2 ---[6]---> 0 | 2 ---[2]---> 6\n",
            "For vertex 3 : 3 ---[7]---> 0 | 3 ---[8]---> 2 | 3 ---[3]---> 6\n",
            "For vertex 4 : 4 ---[8]---> 0 | 4 ---[5]---> 1\n",
            "For vertex 5 : 5 ---[9]---> 0 | 5 ---[2]---> 3 | 5 ---[3]---> 2 | 5 ---[5]---> 4\n",
            "For vertex 6 : 6 ---[3]---> 0 | 6 ---[2]---> 4 | 6 ---[2]---> 1\n"
          ]
        }
      ]
    },
    {
      "cell_type": "code",
      "source": [
        "#Task - 2\n",
        "Graph = weightedGraph()\n",
        "converted = convert(Graph) #converted to undirected, edge-weighted graph by using Task - 4 convert function\n",
        "\n",
        "def findMaxDegree(arr):\n",
        "    row, col = arr.shape\n",
        "    r = 0\n",
        "    maxDegree = 0\n",
        "    while r < row:\n",
        "        c = 0\n",
        "        degreeCounter = 0\n",
        "        while c < col:\n",
        "            if arr[r][c] != 0:\n",
        "                degreeCounter += arr[r][c]\n",
        "            c += 1\n",
        "\n",
        "        if  degreeCounter > maxDegree:\n",
        "            maxDegree = degreeCounter\n",
        "        r += 1\n",
        "    return maxDegree\n",
        "\n",
        "#Graph = weightedGraph()\n",
        "\n",
        "degree = findMaxDegree(converted)\n",
        "print(degree)"
      ],
      "metadata": {
        "colab": {
          "base_uri": "https://localhost:8080/"
        },
        "id": "k5tMk1EbpDTc",
        "outputId": "fff2b51f-a55a-4921-9b9a-a8d9025e8f0f"
      },
      "execution_count": null,
      "outputs": [
        {
          "output_type": "stream",
          "name": "stdout",
          "text": [
            "38\n"
          ]
        }
      ]
    },
    {
      "cell_type": "code",
      "source": [
        "#Task - 2\n",
        "def Task2ll(linkedList):\n",
        "    maxDegree = 0\n",
        "    maxVertex = None\n",
        "    for i in range(len(linkedList)):\n",
        "        sumWeight = 0\n",
        "        temp = linkedList[i]\n",
        "        track = linkedList[i]\n",
        "        while temp != None:\n",
        "            sumWeight += temp.weight\n",
        "            temp = temp.next\n",
        "\n",
        "\n",
        "        if sumWeight > maxDegree:\n",
        "            maxDegree = sumWeight\n",
        "            maxVertex = track.source\n",
        "    return (maxVertex, maxDegree)\n",
        "\n",
        "\n",
        "unDirected_graph_ll = weightedGraphWithLL()\n",
        "directed_graph_ll = convertList(unDirected_graph_ll)  #converted to undirected, edge-weighted graph by using Task - 4 convertlist function\n",
        "\n",
        "printGraphForLL(directed_graph_ll)\n",
        "\n",
        "\n",
        "res = Task2ll(directed_graph_ll)\n",
        "print(f\"vertex {res[0]}, sum : {res[1]}\")"
      ],
      "metadata": {
        "colab": {
          "base_uri": "https://localhost:8080/"
        },
        "id": "JChi3kpmvjj1",
        "outputId": "2c93c27a-b17f-4f13-f119-db5ea75dcc6e"
      },
      "execution_count": null,
      "outputs": [
        {
          "output_type": "stream",
          "name": "stdout",
          "text": [
            "For vertex 0 : 0 ---[5]---> 1 | 0 ---[6]---> 2 | 0 ---[7]---> 3 | 0 ---[8]---> 4 | 0 ---[9]---> 5 | 0 ---[3]---> 6\n",
            "For vertex 1 : 1 ---[3]---> 5 | 1 ---[5]---> 0\n",
            "For vertex 2 : 2 ---[2]---> 6 | 2 ---[6]---> 0\n",
            "For vertex 3 : 3 ---[8]---> 2 | 3 ---[3]---> 6 | 3 ---[7]---> 0\n",
            "For vertex 4 : 4 ---[5]---> 1 | 4 ---[8]---> 0\n",
            "For vertex 5 : 5 ---[2]---> 3 | 5 ---[3]---> 2 | 5 ---[5]---> 4 | 5 ---[9]---> 0\n",
            "For vertex 6 : 6 ---[2]---> 4 | 6 ---[2]---> 1 | 6 ---[3]---> 0\n",
            "vertex 0, sum : 38\n"
          ]
        }
      ]
    },
    {
      "cell_type": "code",
      "source": [
        "#Task - 1 for adjacency matrix representation\n",
        "\n",
        "def findVertex(arr):\n",
        "    vertices = ['A', 'B', 'C', 'D', 'E']\n",
        "    row, col = arr.shape\n",
        "    r = 0\n",
        "    max = 0\n",
        "    maxVertex = None\n",
        "    while r < row:\n",
        "        c = 0\n",
        "        sum = 0\n",
        "        while c < col:\n",
        "            if arr[r][c] != 0:\n",
        "                sum += 1\n",
        "            c += 1\n",
        "\n",
        "        #print(f\"{vertices[r]}, sum : {sum}\")\n",
        "        if sum > max:\n",
        "            max = sum\n",
        "            maxVertex = vertices[r]\n",
        "        r += 1\n",
        "    return (maxVertex, max)\n",
        "\n",
        "\n",
        "graph = weightedGraph()\n",
        "#Converting my directed graph into undirected and unweighted-->\n",
        "#for 0\n",
        "graph[0][1] = 1\n",
        "graph[0][2] = 1\n",
        "graph[0][3] = 1\n",
        "graph[0][4] = 1\n",
        "graph[0][5] = 1\n",
        "graph[0][6] = 1\n",
        "#for 1\n",
        "graph[1][5] = 1\n",
        "#for 2\n",
        "graph[2][6] = 1\n",
        "#for 3\n",
        "graph[3][2] = 1\n",
        "graph[3][6] = 1\n",
        "#for 4\n",
        "graph[4][1] = 1\n",
        "#for 5\n",
        "graph[5][3] = 1\n",
        "graph[5][2] = 1\n",
        "graph[5][4] = 1\n",
        "#for 6\n",
        "graph[6][4] = 1\n",
        "graph[6][1] = 1\n",
        "\n",
        "\n",
        "graph[1][0] = 1\n",
        "graph[2][0] = 1\n",
        "graph[3][0] = 1\n",
        "graph[4][0] = 1\n",
        "graph[5][0] = 1\n",
        "graph[6][0] = 1\n",
        "\n",
        "graph[5][1] = 1\n",
        "\n",
        "graph[6][2] = 1\n",
        "\n",
        "graph[2][3] = 1\n",
        "graph[6][3] = 1\n",
        "\n",
        "graph[1][4] = 1\n",
        "\n",
        "graph[3][5] = 1\n",
        "graph[2][5] = 1\n",
        "graph[4][5] = 1\n",
        "\n",
        "graph[4][6] = 1\n",
        "graph[1][6] = 1\n",
        "\n",
        "print(graph)\n",
        "\n",
        "result = findVertex(Graph)\n",
        "print(f\"vertex {result[0]}, sum : {result[1]}\")"
      ],
      "metadata": {
        "colab": {
          "base_uri": "https://localhost:8080/"
        },
        "id": "CPLhrB_KnhXL",
        "outputId": "5f66ecd7-38ab-479c-f70e-87c2050b5dcf"
      },
      "execution_count": null,
      "outputs": [
        {
          "output_type": "stream",
          "name": "stdout",
          "text": [
            "[[0 1 1 1 1 1 1]\n",
            " [1 0 0 0 1 1 1]\n",
            " [1 0 0 1 0 1 1]\n",
            " [1 0 1 0 0 1 1]\n",
            " [1 1 0 0 0 1 1]\n",
            " [1 1 1 1 1 0 0]\n",
            " [1 1 1 1 1 0 0]]\n",
            "vertex A, sum : 6\n"
          ]
        }
      ]
    },
    {
      "cell_type": "code",
      "source": [
        "#Task - 1 adjacency list representation\n",
        "#firstly converted directed to undirected, then converted weighted to unweighted\n",
        "unDirected_graph_ll = weightedGraphWithLL()\n",
        "directed_graph_ll = convertList(unDirected_graph_ll)\n",
        "printGraphForLL(directed_graph_ll)\n",
        "print(\"\\n\")\n",
        "def unweightHelper(directed_graph_ll):\n",
        "    for i in range(len(directed_graph_ll)):\n",
        "        temp = directed_graph_ll[i]\n",
        "        while temp != None:\n",
        "            temp.weight = 1\n",
        "            temp = temp.next\n",
        "    return directed_graph_ll\n",
        "\n",
        "undirectedUnweighted = unweightHelper(directed_graph_ll)\n",
        "printGraphForLL(undirectedUnweighted)\n",
        "\n",
        "\n",
        "\n",
        "#Actual Task - 1\n",
        "def findMaxDegreeWithLL(linkedList):\n",
        "    maxDegree = -1\n",
        "    for i in range(len(linkedList)):\n",
        "        degreeCounter = 0\n",
        "        temp = linkedList[i]\n",
        "        while temp != None:\n",
        "            degreeCounter += 1\n",
        "            temp = temp.next\n",
        "        if degreeCounter > maxDegree:\n",
        "            maxDegree = degreeCounter\n",
        "    return maxDegree\n",
        "\n",
        "\n",
        "degree = findMaxDegreeWithLL(undirectedUnweighted)\n",
        "print()\n",
        "print(f\"Degree: {degree}\")"
      ],
      "metadata": {
        "colab": {
          "base_uri": "https://localhost:8080/"
        },
        "id": "SD9DuPgwxaUX",
        "outputId": "6f35dd23-d0e3-4d24-99a2-86bc213b99d2"
      },
      "execution_count": null,
      "outputs": [
        {
          "output_type": "stream",
          "name": "stdout",
          "text": [
            "For vertex 0 : 0 ---[5]---> 1 | 0 ---[6]---> 2 | 0 ---[7]---> 3 | 0 ---[8]---> 4 | 0 ---[9]---> 5 | 0 ---[3]---> 6\n",
            "For vertex 1 : 1 ---[3]---> 5 | 1 ---[5]---> 0\n",
            "For vertex 2 : 2 ---[2]---> 6 | 2 ---[6]---> 0\n",
            "For vertex 3 : 3 ---[8]---> 2 | 3 ---[3]---> 6 | 3 ---[7]---> 0\n",
            "For vertex 4 : 4 ---[5]---> 1 | 4 ---[8]---> 0\n",
            "For vertex 5 : 5 ---[2]---> 3 | 5 ---[3]---> 2 | 5 ---[5]---> 4 | 5 ---[9]---> 0\n",
            "For vertex 6 : 6 ---[2]---> 4 | 6 ---[2]---> 1 | 6 ---[3]---> 0\n",
            "\n",
            "\n",
            "For vertex 0 : 0 ---[1]---> 1 | 0 ---[1]---> 2 | 0 ---[1]---> 3 | 0 ---[1]---> 4 | 0 ---[1]---> 5 | 0 ---[1]---> 6\n",
            "For vertex 1 : 1 ---[1]---> 5 | 1 ---[1]---> 0\n",
            "For vertex 2 : 2 ---[1]---> 6 | 2 ---[1]---> 0\n",
            "For vertex 3 : 3 ---[1]---> 2 | 3 ---[1]---> 6 | 3 ---[1]---> 0\n",
            "For vertex 4 : 4 ---[1]---> 1 | 4 ---[1]---> 0\n",
            "For vertex 5 : 5 ---[1]---> 3 | 5 ---[1]---> 2 | 5 ---[1]---> 4 | 5 ---[1]---> 0\n",
            "For vertex 6 : 6 ---[1]---> 4 | 6 ---[1]---> 1 | 6 ---[1]---> 0\n",
            "\n",
            "Degree: 6\n"
          ]
        }
      ]
    },
    {
      "cell_type": "markdown",
      "source": [
        "![image.png](data:image/png;base64,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)"
      ],
      "metadata": {
        "id": "7TPtBlcQohjT"
      }
    }
  ]
}