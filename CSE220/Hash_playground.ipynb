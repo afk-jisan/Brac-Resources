{
  "cells": [
    {
      "cell_type": "code",
      "execution_count": null,
      "metadata": {
        "colab": {
          "base_uri": "https://localhost:8080/"
        },
        "id": "voX95UZy6aO4",
        "outputId": "9663c28d-3b1d-4425-eb31-afcefd753b49"
      },
      "outputs": [
        {
          "name": "stdout",
          "output_type": "stream",
          "text": [
            "Hash table after insertion:\n",
            "Index 0: None\n",
            "Index 1: (11, 30) -> (6, 20) -> (1, 10) -> None\n",
            "Index 2: (7, 50) -> (2, 40) -> None\n",
            "Index 3: None\n",
            "Index 4: None\n",
            "Hash table after deleting key 6:\n",
            "Index 0: None\n",
            "Index 1: (11, 30) -> (1, 10) -> None\n",
            "Index 2: (7, 50) -> (2, 40) -> None\n",
            "Index 3: None\n",
            "Index 4: None\n",
            "Hash table after deleting key 1:\n",
            "Index 0: None\n",
            "Index 1: (11, 30) -> None\n",
            "Index 2: (7, 50) -> (2, 40) -> None\n",
            "Index 3: None\n",
            "Index 4: None\n"
          ]
        }
      ],
      "source": [
        "def hash(key):\n",
        "  return key % 5\n",
        "\n",
        "\n",
        "class Node:\n",
        "  def __init__(self, key, val, next):\n",
        "    self.key = key\n",
        "    self.val = val\n",
        "    self.next = next\n",
        "\n",
        "def insert(ht, key, val):\n",
        "  index = hash(key)\n",
        "  head = ht[index]  #Either None rakhtesi or obj location\n",
        "  if head == None:\n",
        "    ht[index] = Node(key, val, None)\n",
        "  else:\n",
        "    # This is also doing the search operation\n",
        "    temp = head\n",
        "    is_found = False\n",
        "    while temp != None:\n",
        "      if temp.key == key:\n",
        "        temp.val = val\n",
        "        is_found = True\n",
        "        break\n",
        "      temp = temp.next\n",
        "    if is_found != True:\n",
        "      ht[index] = Node(key, val, head)\n",
        "  return ht\n",
        "\n",
        "\n",
        "def delete(ht, key):\n",
        "  index = hash(key)\n",
        "  temp = ht[index]\n",
        "  if temp.key == key:\n",
        "    ht[index] = temp.next\n",
        "  else:\n",
        "    next = temp.next\n",
        "    while next != None:\n",
        "      if next.key == key:\n",
        "        temp.next = next.next\n",
        "        break\n",
        "      temp = temp.next\n",
        "      next = next.next\n",
        "  return ht\n",
        "\n",
        "\n",
        "def print_table(ht):\n",
        "    for i in range(len(ht)):\n",
        "        print(f\"Index {i}: \", end=\"\")\n",
        "        temp = ht[i]\n",
        "        while temp is not None:\n",
        "            print(f\"({temp.key}, {temp.val}) -> \", end=\"\")\n",
        "            temp = temp.next\n",
        "        print(\"None\")\n",
        "\n",
        "#Initialize the hash table with size 5\n",
        "hash_table = [None] * 5\n",
        "# Insert elements\n",
        "insert(hash_table, 1, 10)\n",
        "insert(hash_table, 6, 20)  # Same hash index as 1\n",
        "insert(hash_table, 11, 30)  # Same hash index as 1 and 6\n",
        "insert(hash_table, 2, 40)\n",
        "insert(hash_table, 7, 50)  # Same hash index as 2\n",
        "print(\"Hash table after insertion:\")\n",
        "print_table(hash_table)\n",
        "# Delete a node in the middle of the chain\n",
        "delete(hash_table, 6)\n",
        "print(\"Hash table after deleting key 6:\")\n",
        "print_table(hash_table)\n",
        "#Delete the head of a chain\n",
        "delete(hash_table, 1)\n",
        "print(\"Hash table after deleting key 1:\")\n",
        "print_table(hash_table)\n"
      ]
    }
  ],
  "metadata": {
    "colab": {
      "provenance": []
    },
    "kernelspec": {
      "display_name": "Python 3",
      "name": "python3"
    },
    "language_info": {
      "name": "python"
    }
  },
  "nbformat": 4,
  "nbformat_minor": 0
}
